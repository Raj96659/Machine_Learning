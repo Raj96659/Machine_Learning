{
 "cells": [
  {
   "cell_type": "code",
   "execution_count": 3,
   "id": "5529794f-f6d8-43f4-8ba4-1f5ab831b11d",
   "metadata": {},
   "outputs": [
    {
     "name": "stdout",
     "output_type": "stream",
     "text": [
      "         Size  Size_encoded\n",
      "0  aa   Small           0.0\n",
      "1  bb   Large           2.0\n",
      "2  cc  Medium           1.0\n",
      "3  dd      XL           3.0\n",
      "4  ee   Small           0.0\n"
     ]
    }
   ],
   "source": [
    "import pandas as pd\n",
    "from sklearn.preprocessing import OrdinalEncoder\n",
    "\n",
    "# Sample Data\n",
    "data = {'' : ['aa','bb','cc','dd','ee'],\n",
    "    'Size': ['Small', 'Large', 'Medium', 'XL', 'Small']}\n",
    "df = pd.DataFrame(data)\n",
    "\n",
    "# Define order\n",
    "size_order = [['Small', 'Medium', 'Large', 'XL']]\n",
    "\n",
    "# Apply Ordinal Encoding\n",
    "encoder = OrdinalEncoder(categories=size_order)\n",
    "df['Size_encoded'] = encoder.fit_transform(df[['Size']])\n",
    "\n",
    "print(df)\n"
   ]
  },
  {
   "cell_type": "code",
   "execution_count": null,
   "id": "b70df063-0d03-43bc-a542-a4448aa0b2be",
   "metadata": {},
   "outputs": [],
   "source": []
  }
 ],
 "metadata": {
  "kernelspec": {
   "display_name": "Python 3 (ipykernel)",
   "language": "python",
   "name": "python3"
  },
  "language_info": {
   "codemirror_mode": {
    "name": "ipython",
    "version": 3
   },
   "file_extension": ".py",
   "mimetype": "text/x-python",
   "name": "python",
   "nbconvert_exporter": "python",
   "pygments_lexer": "ipython3",
   "version": "3.12.7"
  }
 },
 "nbformat": 4,
 "nbformat_minor": 5
}
