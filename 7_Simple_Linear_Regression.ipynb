{
 "cells": [
  {
   "cell_type": "code",
   "execution_count": 2,
   "id": "015764f5-f630-4634-8eae-d6f43563513c",
   "metadata": {},
   "outputs": [],
   "source": [
    "import pandas as pd\n",
    "from sklearn.linear_model import LinearRegression"
   ]
  },
  {
   "cell_type": "code",
   "execution_count": 3,
   "id": "aed0bafc-e6f0-4b06-8f82-3c110a4dc6a7",
   "metadata": {},
   "outputs": [],
   "source": [
    "# Sample Data\n",
    "data = {\n",
    "    'Size': [850,900,1000,1200,1500,1600,1700,2000,2100,2300],\n",
    "    'Bedrooms': [2,2,3,3,3,4,4,4,5,5],\n",
    "    'Age': [10,5,8,15,20,5,12,8,10,12],\n",
    "    'Price': [300000,350000,400000,415000,450000,520000,540000,610000,635000,670000]\n",
    "}\n",
    "\n",
    "df = pd.DataFrame(data)"
   ]
  },
  {
   "cell_type": "code",
   "execution_count": 8,
   "id": "a39f7346-4a8f-4580-a5e7-9eaa5b91222d",
   "metadata": {},
   "outputs": [
    {
     "name": "stdout",
     "output_type": "stream",
     "text": [
      "0.9870748226118868\n"
     ]
    }
   ],
   "source": [
    "print(df['Size'].corr(df['Price']))"
   ]
  },
  {
   "cell_type": "code",
   "execution_count": 9,
   "id": "e93e3e8a-1422-4861-9252-5eaab5fed5b7",
   "metadata": {},
   "outputs": [
    {
     "name": "stdout",
     "output_type": "stream",
     "text": [
      "0.9696451488081106\n"
     ]
    }
   ],
   "source": [
    "print(df['Bedrooms'].corr(df['Price']))"
   ]
  },
  {
   "cell_type": "code",
   "execution_count": 10,
   "id": "e4fbf4fa-b74a-4598-9ee2-c1ea232e8dc4",
   "metadata": {},
   "outputs": [
    {
     "name": "stdout",
     "output_type": "stream",
     "text": [
      "0.03476209611404417\n"
     ]
    }
   ],
   "source": [
    "print(df['Age'].corr(df['Price']))"
   ]
  },
  {
   "cell_type": "code",
   "execution_count": 11,
   "id": "f5775b6a-b0f8-4dbc-951c-fe728e379925",
   "metadata": {},
   "outputs": [
    {
     "data": {
      "text/html": [
       "<div>\n",
       "<style scoped>\n",
       "    .dataframe tbody tr th:only-of-type {\n",
       "        vertical-align: middle;\n",
       "    }\n",
       "\n",
       "    .dataframe tbody tr th {\n",
       "        vertical-align: top;\n",
       "    }\n",
       "\n",
       "    .dataframe thead th {\n",
       "        text-align: right;\n",
       "    }\n",
       "</style>\n",
       "<table border=\"1\" class=\"dataframe\">\n",
       "  <thead>\n",
       "    <tr style=\"text-align: right;\">\n",
       "      <th></th>\n",
       "      <th>Size</th>\n",
       "      <th>Bedrooms</th>\n",
       "      <th>Age</th>\n",
       "    </tr>\n",
       "  </thead>\n",
       "  <tbody>\n",
       "    <tr>\n",
       "      <th>Size</th>\n",
       "      <td>1.000000</td>\n",
       "      <td>0.947215</td>\n",
       "      <td>0.136943</td>\n",
       "    </tr>\n",
       "    <tr>\n",
       "      <th>Bedrooms</th>\n",
       "      <td>0.947215</td>\n",
       "      <td>1.000000</td>\n",
       "      <td>0.033716</td>\n",
       "    </tr>\n",
       "    <tr>\n",
       "      <th>Age</th>\n",
       "      <td>0.136943</td>\n",
       "      <td>0.033716</td>\n",
       "      <td>1.000000</td>\n",
       "    </tr>\n",
       "  </tbody>\n",
       "</table>\n",
       "</div>"
      ],
      "text/plain": [
       "              Size  Bedrooms       Age\n",
       "Size      1.000000  0.947215  0.136943\n",
       "Bedrooms  0.947215  1.000000  0.033716\n",
       "Age       0.136943  0.033716  1.000000"
      ]
     },
     "execution_count": 11,
     "metadata": {},
     "output_type": "execute_result"
    }
   ],
   "source": [
    "df[['Size','Bedrooms','Age']].corr()\n"
   ]
  },
  {
   "cell_type": "code",
   "execution_count": 12,
   "id": "4527595e-4950-4549-80e6-21bfbf701890",
   "metadata": {},
   "outputs": [
    {
     "name": "stdout",
     "output_type": "stream",
     "text": [
      "Intercept: 128814.85729515937\n",
      "Coefficients: [  180.7269302  30968.83592303 -2095.91259798]\n"
     ]
    }
   ],
   "source": [
    "# Features & Target\n",
    "X = df[['Size','Bedrooms','Age']]\n",
    "y = df['Price']\n",
    "\n",
    "# Train Model\n",
    "model = LinearRegression()\n",
    "model.fit(X, y)\n",
    "\n",
    "# Predictions\n",
    "y_pred = model.predict(X)\n",
    "\n",
    "# Print Coefficients\n",
    "print(\"Intercept:\", model.intercept_)\n",
    "print(\"Coefficients:\", model.coef_)"
   ]
  },
  {
   "cell_type": "code",
   "execution_count": 13,
   "id": "bf7fbfba-8642-4244-b49f-5d19b00b1464",
   "metadata": {},
   "outputs": [
    {
     "name": "stderr",
     "output_type": "stream",
     "text": [
      "C:\\Users\\Jay Sunil Sonawane\\AppData\\Roaming\\Python\\Python312\\site-packages\\sklearn\\utils\\validation.py:2739: UserWarning: X does not have valid feature names, but LinearRegression was fitted with feature names\n",
      "  warnings.warn(\n"
     ]
    },
    {
     "data": {
      "text/plain": [
       "array([408460.3845707])"
      ]
     },
     "execution_count": 13,
     "metadata": {},
     "output_type": "execute_result"
    }
   ],
   "source": [
    "model.predict([[1300,3,23]])"
   ]
  },
  {
   "cell_type": "code",
   "execution_count": null,
   "id": "e9370a92-acb1-4083-80a7-280eb20ecba4",
   "metadata": {},
   "outputs": [],
   "source": []
  }
 ],
 "metadata": {
  "kernelspec": {
   "display_name": "Python 3 (ipykernel)",
   "language": "python",
   "name": "python3"
  },
  "language_info": {
   "codemirror_mode": {
    "name": "ipython",
    "version": 3
   },
   "file_extension": ".py",
   "mimetype": "text/x-python",
   "name": "python",
   "nbconvert_exporter": "python",
   "pygments_lexer": "ipython3",
   "version": "3.12.7"
  }
 },
 "nbformat": 4,
 "nbformat_minor": 5
}
