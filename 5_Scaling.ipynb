{
 "cells": [
  {
   "cell_type": "code",
   "execution_count": 2,
   "id": "54ec30e9-f463-43ac-93c2-022bd95a99d6",
   "metadata": {},
   "outputs": [
    {
     "name": "stdout",
     "output_type": "stream",
     "text": [
      "   Age  Salary  Age_MinMax  Salary_MinMax   Age_Std  Salary_Std\n",
      "0   20   20000        0.00           0.00 -1.414214   -1.414214\n",
      "1   30   40000        0.25           0.25 -0.707107   -0.707107\n",
      "2   40   60000        0.50           0.50  0.000000    0.000000\n",
      "3   50   80000        0.75           0.75  0.707107    0.707107\n",
      "4   60  100000        1.00           1.00  1.414214    1.414214\n"
     ]
    }
   ],
   "source": [
    "import pandas as pd\n",
    "from sklearn.preprocessing import MinMaxScaler, StandardScaler, RobustScaler\n",
    "\n",
    "data = {'Age': [20, 30, 40, 50, 60],\n",
    "        'Salary': [20000, 40000, 60000, 80000, 100000]}\n",
    "\n",
    "df = pd.DataFrame(data)\n",
    "\n",
    "# Min-Max Scaling\n",
    "minmax = MinMaxScaler()\n",
    "df['Age_MinMax'], df['Salary_MinMax'] = minmax.fit_transform(df[['Age', 'Salary']]).T\n",
    "\n",
    "# Standardization\n",
    "scaler = StandardScaler()\n",
    "df['Age_Std'], df['Salary_Std'] = scaler.fit_transform(df[['Age', 'Salary']]).T\n",
    "\n",
    "print(df)\n"
   ]
  },
  {
   "cell_type": "code",
   "execution_count": null,
   "id": "14301610-7230-4036-a312-d3695a8d3c20",
   "metadata": {},
   "outputs": [],
   "source": []
  }
 ],
 "metadata": {
  "kernelspec": {
   "display_name": "Python 3 (ipykernel)",
   "language": "python",
   "name": "python3"
  },
  "language_info": {
   "codemirror_mode": {
    "name": "ipython",
    "version": 3
   },
   "file_extension": ".py",
   "mimetype": "text/x-python",
   "name": "python",
   "nbconvert_exporter": "python",
   "pygments_lexer": "ipython3",
   "version": "3.12.7"
  }
 },
 "nbformat": 4,
 "nbformat_minor": 5
}
